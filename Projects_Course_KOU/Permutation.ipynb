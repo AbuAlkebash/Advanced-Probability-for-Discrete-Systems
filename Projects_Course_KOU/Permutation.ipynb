{
  "nbformat": 4,
  "nbformat_minor": 0,
  "metadata": {
    "colab": {
      "name": "Permutation.ipynb",
      "provenance": [],
      "collapsed_sections": [],
      "toc_visible": true,
      "authorship_tag": "ABX9TyNvAIMXc/3ZDTWVMaDlO/m2",
      "include_colab_link": true
    },
    "kernelspec": {
      "name": "python3",
      "display_name": "Python 3"
    },
    "language_info": {
      "name": "python"
    }
  },
  "cells": [
    {
      "cell_type": "markdown",
      "metadata": {
        "id": "view-in-github",
        "colab_type": "text"
      },
      "source": [
        "<a href=\"https://colab.research.google.com/github/Humam-PS/Advanced-Probability-for-Discrete-Systems/blob/main/Permutation.ipynb\" target=\"_parent\"><img src=\"https://colab.research.google.com/assets/colab-badge.svg\" alt=\"Open In Colab\"/></a>"
      ]
    },
    {
      "cell_type": "markdown",
      "metadata": {
        "id": "kpPHp7AMp7hq"
      },
      "source": [
        "# Permutation"
      ]
    },
    {
      "cell_type": "markdown",
      "metadata": {
        "id": "npeR5zgXqb4P"
      },
      "source": [
        "A **permutation** is a mathematical technique that determines the number of possible arrangements in a set when the order of the arrangements matters.\n",
        "> Common mathematical problems involve choosing only several items from a set of items with a certain order.\n",
        "* The arrangements *ab* and *ba* are equal in **combinations** (considered as one arrangement), while in **permutations**, the arrangements are different."
      ]
    },
    {
      "cell_type": "markdown",
      "metadata": {
        "id": "1CHIRXSB0mxA"
      },
      "source": [
        "General Formula for Calculating Permutations"
      ]
    },
    {
      "cell_type": "markdown",
      "metadata": {
        "id": "2BamXbR70kvT"
      },
      "source": [
        "![image.png](data:image/png;base64,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)"
      ]
    },
    {
      "cell_type": "markdown",
      "metadata": {
        "id": "pN5Thuz1qLpP"
      },
      "source": [
        "**n**: the total number of elements in a set.\n",
        "\n",
        "**k**: the number of selected elements arranged in a specific order"
      ]
    },
    {
      "cell_type": "markdown",
      "metadata": {
        "id": "2mrpXevvsaKM"
      },
      "source": [
        "# Example:"
      ]
    },
    {
      "cell_type": "markdown",
      "metadata": {
        "id": "cwsJpctxscaD"
      },
      "source": [
        "In how many ways can **3 women** and **4 men** sit in a line if the women always sit together ?"
      ]
    },
    {
      "cell_type": "markdown",
      "metadata": {
        "id": "AWJ71W9_s2LL"
      },
      "source": [
        "## Solution"
      ]
    },
    {
      "cell_type": "markdown",
      "metadata": {
        "id": "RfaNVwrms4Wt"
      },
      "source": [
        "**First**:\n",
        "group the members that are going to sit together as : \n",
        "\n",
        "(W W W) (M) (M) (M) (M)\n",
        "\n",
        "where the women group look like one unit. Now, We can say that the number of arrangement = **P(5,5) =  5!**\n",
        "\n",
        "**Second**\n",
        "> REMINDER: There are 3 different women !!\n",
        "\n",
        "So, identify that they are different we may write a subscript to it, (W1 W2 W3) (M1) (M2) (M3) (M4)\n",
        "\n",
        "Now, within the women group, there can be an arrangement of: **P(3,3) = 3!**\n"
      ]
    },
    {
      "cell_type": "markdown",
      "metadata": {
        "id": "P2F4iGJ05lBX"
      },
      "source": [
        "**The TOTAL # of arrangement** = 5! X 3! = 5 X 4 X 3 X 2 X 3 X 2 = 720"
      ]
    },
    {
      "cell_type": "markdown",
      "metadata": {
        "id": "gDVcIJauwWjF"
      },
      "source": [
        "## Python Code"
      ]
    },
    {
      "cell_type": "code",
      "metadata": {
        "colab": {
          "base_uri": "https://localhost:8080/"
        },
        "id": "TkfcQJCWyh-C",
        "outputId": "bf9afb3e-3ed7-4867-a087-1420f43709fb"
      },
      "source": [
        "from math import factorial\n",
        "\n",
        "# 7 women & men\n",
        "overall_elements = int(input('total elements: '))\n",
        "# 3 women\n",
        "women_elements = int(input('women elements: '))\n",
        "\n",
        "\n",
        "# the TOTAL # of arrangement:\n",
        "total = factorial(overall_elements-women_elements+1) * factorial(women_elements)\n",
        "\n",
        "print (f\"Total number of arrangement  = {total}\")"
      ],
      "execution_count": 2,
      "outputs": [
        {
          "output_type": "stream",
          "text": [
            "total elements: 7\n",
            "women elements: 3\n",
            "Total number of arrangement  = 720\n"
          ],
          "name": "stdout"
        }
      ]
    }
  ]
}
