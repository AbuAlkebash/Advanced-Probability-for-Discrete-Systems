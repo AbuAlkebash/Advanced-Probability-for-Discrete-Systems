{
  "nbformat": 4,
  "nbformat_minor": 0,
  "metadata": {
    "colab": {
      "name": "Probability_Mass_Function_PMF.ipynb",
      "provenance": [],
      "collapsed_sections": [],
      "authorship_tag": "ABX9TyPlBUFg98frDbQBdDYzoAxh",
      "include_colab_link": true
    },
    "kernelspec": {
      "name": "python3",
      "display_name": "Python 3"
    },
    "language_info": {
      "name": "python"
    }
  },
  "cells": [
    {
      "cell_type": "markdown",
      "metadata": {
        "id": "view-in-github",
        "colab_type": "text"
      },
      "source": [
        "<a href=\"https://colab.research.google.com/github/Humam-PS/Advanced-Probability-for-Discrete-Systems/blob/main/Probability_Mass_Function_PMF.ipynb\" target=\"_parent\"><img src=\"https://colab.research.google.com/assets/colab-badge.svg\" alt=\"Open In Colab\"/></a>"
      ]
    },
    {
      "cell_type": "markdown",
      "metadata": {
        "id": "KbJYULYn-mFV"
      },
      "source": [
        "# Probability Mass Function PMF (for Discrete systems)"
      ]
    },
    {
      "cell_type": "markdown",
      "metadata": {
        "id": "YJKp_cHc-tJs"
      },
      "source": [
        "> PMF refers to discrete probabilities and describes the probability of each possible outcome.\n",
        "\n",
        ">  PMF gives the probability that a discrete random variable is exactly equal to some value.\n",
        "\n",
        "> However, the values of the Probability Density Function PDF are not probabilities. a PDF must be integrated over an interval to yield a probability."
      ]
    },
    {
      "cell_type": "markdown",
      "metadata": {
        "id": "yNQTK2jpBaVJ"
      },
      "source": [
        "# Example"
      ]
    },
    {
      "cell_type": "markdown",
      "metadata": {
        "id": "utLC2B8NBcQm"
      },
      "source": [
        "Let X be a rondom variable and F is PMF given by:"
      ]
    },
    {
      "cell_type": "markdown",
      "metadata": {
        "id": "ZzGZbTE7BlTm"
      },
      "source": [
        "![image.png](data:image/png;base64,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)"
      ]
    },
    {
      "cell_type": "markdown",
      "metadata": {
        "id": "36GMdCI8C9_s"
      },
      "source": [
        "A) Find the value of K.\n",
        "\n",
        "B) Find the following probabilities value:\n",
        "> P(X<=6)\n",
        "\n",
        "> P(3<X<=6)\n",
        "\n",
        "> P(X>3 | X<=6).    \"Conditional probability\""
      ]
    },
    {
      "cell_type": "markdown",
      "metadata": {
        "id": "mhbkovguEG2b"
      },
      "source": [
        "## Solution"
      ]
    },
    {
      "cell_type": "markdown",
      "metadata": {
        "id": "rV9yzE5xEInC"
      },
      "source": [
        "**A) Find the value of K.**\n",
        "* The summition of all the probabilities of mass function has to be equal **ONE**\n",
        "\n",
        "0 + k + 2k + 2k + 3k + k^2 + 2k^2 + 7k^2 + k = **1**\n",
        "\n",
        "10k^2 + 10k - k - 1 = 0\n",
        "\n",
        "(10k-1)(k+1) = 0\n",
        "\n",
        "k= -1 ( **invalid** because  the value is negative )\n",
        "\n",
        "**K= 1/10** (**True value of K**)"
      ]
    },
    {
      "cell_type": "markdown",
      "metadata": {
        "id": "HTC2KWGaFoxq"
      },
      "source": [
        "* Now fill the previous table where the parameter K has a known value."
      ]
    },
    {
      "cell_type": "markdown",
      "metadata": {
        "id": "syArOfKEMsf4"
      },
      "source": [
        "![image.png](data:image/png;base64,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)"
      ]
    },
    {
      "cell_type": "markdown",
      "metadata": {
        "id": "0WzdWX6rGYti"
      },
      "source": [
        "**B_1) P(X<=6)**\n",
        "* P(X <= 6) = P(X=0) + P(X=1) + P(X=2) + P(X=3) + P(X=4) + P(X=5) + P(X=6) = 1 - P(X=7)\n",
        "\n",
        "P(X <= 6) = 1 - 0.17 = **0.83**"
      ]
    },
    {
      "cell_type": "markdown",
      "metadata": {
        "id": "JQ7eNsNBIQFM"
      },
      "source": [
        "**B_2) P(3 < X <=6)**\n",
        "* P(3 < X <=6) = P(X=4) + P(X=5) + P(X=6) = 0.30 + 0.01 + 0.02\n",
        "\n",
        "P(3 < X <=6) = **0.33**"
      ]
    },
    {
      "cell_type": "markdown",
      "metadata": {
        "id": "aGf_6MGhJQYz"
      },
      "source": [
        "**B_3) P(X>3 | X<=6)**\n",
        "\n",
        "* Apply the Bayes theorm to compute the conditional probability:\n",
        "\n",
        "P(X>3 | X<=6) = P(X>3 AND X<=6) / P(X <= 6)\n",
        "\n",
        "P(X>3 | X<=6) = 0.33 / 0.83  = **0.39759**"
      ]
    },
    {
      "cell_type": "markdown",
      "metadata": {
        "id": "ET20eL0pKdP7"
      },
      "source": [
        "# Python Code"
      ]
    },
    {
      "cell_type": "code",
      "metadata": {
        "colab": {
          "base_uri": "https://localhost:8080/",
          "height": 401
        },
        "id": "80QfKVe3-cQH",
        "outputId": "aca1b678-2f42-4a86-9eec-16fe2addfb2a"
      },
      "source": [
        "import matplotlib.pyplot as plt\n",
        "\n",
        "## Probability Mass Function:\n",
        "print(\"\")\n",
        "# Random variable:\n",
        "X = list(range(8))\n",
        "\n",
        "# probabilities of PMF\n",
        "F = [0, 0.10, 0.20, 0.20, 0.30, 0.01, 0.02, 0.17]\n",
        "\n",
        "# plot PMF\n",
        "plt.bar(X, F)\n",
        "plt.title('Probability Mass Function (PMF)')\n",
        "plt.ylabel(\"Probability\")\n",
        "plt.xlabel(\"X\")\n",
        "plt.show()\n",
        "plt.close()\n",
        "\n",
        "# User input: 1st=3,  2nd=6\n",
        "x1 = int(input('Enter the 1st large number between 0 and 7: '))\n",
        "x2 = int(input('Enter the 2nd small number between 0 and 7: '))\n",
        "\n",
        "# 1) calculate P( X <= x1)\n",
        "P_x1 = sum(F[0:x1+1])\n",
        "print(f'P( X <= {x1}) = {P_x1}')\n",
        "\n",
        "# 2) calculate P(3 <X<= 6)\n",
        "P_x2 = sum(F[x2+1:x1+1])\n",
        "print(f'P({x2} <X<= {x1}) = {P_x2}')\n",
        "\n",
        "# 3) calculate P(X>3 | X<=6)  :Conditional probability\n",
        "P_conditional = P_x2 / P_x1\n",
        "print(f'P(X>{x2} | X<= {x1}) = {P_conditional}')\n"
      ],
      "execution_count": 13,
      "outputs": [
        {
          "output_type": "stream",
          "text": [
            "\n"
          ],
          "name": "stdout"
        },
        {
          "output_type": "display_data",
          "data": {
            "image/png": "[encoded data removed]",
            "text/plain": [
              "<Figure size 432x288 with 1 Axes>"
            ]
          },
          "metadata": {
            "tags": [],
            "needs_background": "light"
          }
        },
        {
          "output_type": "stream",
          "text": [
            "Enter the 1st large number between 0 and 7: 6\n",
            "Enter the 2nd small number between 0 and 7: 3\n",
            "P( X <= 6) = 0.8300000000000001\n",
            "P(3 <X<= 6) = 0.33\n",
            "P(X>3 | X<= 6) = 0.39759036144578314\n"
          ],
          "name": "stdout"
        }
      ]
    }
  ]
}